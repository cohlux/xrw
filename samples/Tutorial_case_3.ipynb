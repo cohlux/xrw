{
 "metadata": {
  "name": ""
 },
 "nbformat": 3,
 "nbformat_minor": 0,
 "worksheets": [
  {
   "cells": [
    {
     "cell_type": "heading",
     "level": 1,
     "metadata": {},
     "source": [
      "Wavefront propagation simulation tutorial - Case 3"
     ]
    },
    {
     "cell_type": "markdown",
     "metadata": {},
     "source": [
      "L.Samoylova <liubov.samoylova@xfel.eu>, A.Buzmakov <buzmakov@gmail.com>\n",
      "\n",
      "Tutorial course on Wavefront Propagation Simulations, 28/11/2013, European XFEL, Hamburg.\n",
      "\n",
      "Wave optics software is based on SRW core library <https://github.com/ochubar/SRW>, available through WPG interactive framework <https://github.com/samoylv/WPG>"
     ]
    },
    {
     "cell_type": "heading",
     "level": 2,
     "metadata": {
      "slideshow": {
       "slide_type": "-"
      }
     },
     "source": [
      "Propagation Gaussian through HOM and KB optics: extended analysis"
     ]
    },
    {
     "cell_type": "heading",
     "level": 3,
     "metadata": {},
     "source": [
      "Import modules"
     ]
    },
    {
     "cell_type": "code",
     "collapsed": false,
     "input": [
      "%matplotlib inline\n",
      "\n",
      "#Importing necessary modules:\n",
      "\n",
      "import sys\n",
      "sys.path.insert(0,'..')\n",
      "\n",
      "import os\n",
      "import time\n",
      "import copy\n",
      "import numpy\n",
      "import pylab\n",
      "\n",
      "\n",
      "#import SRW core functions\n",
      "from wpg.srwlib import srwl,SRWLOptD,SRWLOptA,SRWLOptC,SRWLOptT,SRWLOptL,SRWLOptMirEl\n",
      "\n",
      "#import SRW helpers functions\n",
      "from wpg.useful_code.srwutils import AuxTransmAddSurfHeightProfileScaled\n",
      "\n",
      "#import some helpers functions\n",
      "from wpg.useful_code.wfrutils import calculate_fwhm_x, plot_wfront, calculate_fwhm_y, print_beamline, get_mesh\n",
      "\n",
      "#Import base wavefront class\n",
      "from wpg import Wavefront\n",
      "\n",
      "#Gaussian beam generator\n",
      "from wpg.generators import build_gauss_wavefront_xy\n",
      "\n",
      "pylab.ion()"
     ],
     "language": "python",
     "metadata": {},
     "outputs": [],
     "prompt_number": 1
    },
    {
     "cell_type": "heading",
     "level": 3,
     "metadata": {},
     "source": [
      "Define auxiliary functions"
     ]
    },
    {
     "cell_type": "code",
     "collapsed": false,
     "input": [
      "#Plotting\n",
      "def plot_1d(profile, title_fig, title_x, title_y):\n",
      "    pylab.plot(profile[0], profile[1])\n",
      "    pylab.xlabel(title_x)\n",
      "    pylab.ylabel(title_y)\n",
      "    pylab.title(title_fig)\n",
      "    pylab.grid(True)\n",
      "\n",
      "\n",
      "def plot_2d(amap, xmin, xmax, ymin, ymax, title_fig, title_x, title_y):\n",
      "    pylab.imshow(amap, extent=(ymin, ymax, xmin, xmax))\n",
      "    pylab.colorbar()\n",
      "    pylab.xlabel(title_x)\n",
      "    pylab.ylabel(title_y)\n",
      "    pylab.title(title_fig)\n"
     ],
     "language": "python",
     "metadata": {},
     "outputs": [],
     "prompt_number": 2
    },
    {
     "cell_type": "code",
     "collapsed": false,
     "input": [
      "#calculate source size from photon energy and FWHM angular divergence\n",
      "def calculate_source_fwhm(ekev, theta_fwhm):\n",
      "    wl = 12.39e-10/ekev\n",
      "    k = 2 * sqrt(2*log(2))\n",
      "    theta_sigma = theta_fwhm /k\n",
      "    sigma0 = wl /(2*numpy.pi*theta_sigma)\n",
      "    return sigma0*k"
     ],
     "language": "python",
     "metadata": {},
     "outputs": [],
     "prompt_number": 3
    },
    {
     "cell_type": "code",
     "collapsed": false,
     "input": [
      "#calculate angular divergence using formula from CDR2011\n",
      "def calculate_theta_fwhm_cdr(ekev,qnC):\n",
      "    theta_fwhm = (17.2 - 6.4 * sqrt(qnC))*1e-6/ekev**0.85\n",
      "    return theta_fwhm"
     ],
     "language": "python",
     "metadata": {},
     "outputs": [],
     "prompt_number": 4
    },
    {
     "cell_type": "code",
     "collapsed": false,
     "input": [
      "#define optical path difference (OPD) from mirror profile, i.e.\n",
      "#fill the struct opTrErMirr\n",
      "#input: \n",
      "#    mdatafile: an ascii file with mirror profile data\n",
      "#    ncol:      number of columns in the file\n",
      "#    delim:     delimiter between numbers in an row, can be space (' '), tab '\\t', etc\n",
      "#    Orient:    mirror orientation, 'x' (horizontal) or 'y' (vertical)\n",
      "#    theta:     incidence angle\n",
      "#    scale:     scaling factor for the mirror profile\n",
      "def defineOPD(opTrErMirr, mdatafile, ncol, delim, Orient, theta, scale):\n",
      "    heightProfData = numpy.loadtxt(mdatafile).T\n",
      "    AuxTransmAddSurfHeightProfileScaled(opTrErMirr, heightProfData, Orient, theta, scale)\n",
      "    pylab.figure()\n",
      "    plot_1d(heightProfData,'profile from ' + mdatafile,'x (m)', 'h (m)') #@todo add the func def in on top of example"
     ],
     "language": "python",
     "metadata": {},
     "outputs": [],
     "prompt_number": 5
    },
    {
     "cell_type": "heading",
     "level": 3,
     "metadata": {},
     "source": [
      "Defining initial wavefront and writing electric field data to h5-file"
     ]
    },
    {
     "cell_type": "code",
     "collapsed": false,
     "input": [
      "from math import sqrt, log, floor, pi\n",
      "import matplotlib.pyplot as plt\n",
      "\n",
      "# #**********************Input Wavefront Structure and Parameters\n",
      "print('*****defining initial wavefront and writing electric field data to h5-file...')\n",
      "strInputDataFolder = 'data_common'  # input data sub-folder name\n",
      "strOutputDataFolder = 'Tutorial_case_3'  # output data sub-folder name\n",
      "\n",
      "#init Gauusian beam parameters\n",
      "d2m1_sase1 = 246.5\n",
      "d2m1_sase2 = 290.0\n",
      "d2m1_sase3 = 281.0\n",
      "\n",
      "d2hkb_sase1 = 929.6       # distance to nmKB's HFM\n",
      "dHKB_foc_sase1 = 3.0      # nominal focal length for HFM KB\n",
      "dVKB_foc_sase1 = 1.9      # nominal focal length for VFM KB\n",
      "d2hkb_sase3 = 442.3\n",
      "dHKB_foc_sase3 = 2.715    # nominal focal length for HFM KB\n",
      "dVKB_foc_sase3 = 1.715    # nominal focal length for VFM KB\n",
      "\n",
      "\n",
      "qnC = 0.1                    # e-bunch charge, [nC]\n",
      "ekev_sase3 = 0.8\n",
      "thetaOM_sase3 = 9.e-3\n",
      "thetaKB_sase3 = 9.e-3\n",
      "ekev_sase1 = 5.0\n",
      "thetaOM_sase1 = 3.5e-3       # \n",
      "thetaKB_sase1 = 3.5e-3\n",
      "\n",
      "ekev = ekev_sase1\n",
      "thetaOM = thetaOM_sase1\n",
      "d2m1 = d2m1_sase1\n",
      "d2hkb = d2hkb_sase1\n",
      "thetaKB = thetaKB_sase1\n",
      "dhkb_foc = dHKB_foc_sase1     # nominal focal length for HFM KB\n",
      "dvkb_foc = dVKB_foc_sase1      # nominal focal length for VFM KB\n",
      "dhkb_vkb = dhkb_foc - dvkb_foc          # distance between centers of HFM and VFM\n",
      "\n",
      "z1 = d2m1\n",
      "theta_fwhm = calculate_theta_fwhm_cdr(ekev,qnC)\n",
      "k = 2*sqrt(2*log(2))\n",
      "sigX = 12.4e-10*k/(ekev*4*pi*theta_fwhm) \n",
      "print 'waist_fwhm [um], theta_fwhms [urad]:', sigX*k*1e6, theta_fwhm*1e6\n",
      "#define limits\n",
      "range_xy = theta_fwhm/k*z1*7. # sigma*7 beam size\n",
      "np=400\n",
      "\n",
      "#define unique filename for storing results\n",
      "ip = floor(ekev)\n",
      "frac = numpy.floor((ekev - ip)*1e3)\n",
      "fname0 = 'g' + str(int(ip))+'_'+str(int(frac))+'kev'\n",
      "print('save hdf5: '+fname0+'.h5')\n",
      "ifname = os.path.join(strOutputDataFolder,fname0+'.h5')\n",
      "\n",
      "#tiltX = theta_rms\n",
      "#build SRW gauusian wavefront\n",
      "wfr0=build_gauss_wavefront_xy(nx=np,ny=np,ekev=ekev,\n",
      "                              xMin=-range_xy/2,xMax=range_xy/2,\n",
      "                              yMin=-range_xy/2,yMax=range_xy/2,\n",
      "                              sigX=sigX,sigY=sigX,d2waist=z1,\n",
      "                              xoff=0, yoff=0, tiltX=0, tiltY=0)    \n",
      "\n",
      "#init WPG Wavefront helper class\n",
      "mwf = Wavefront(wfr0)\n",
      "\n",
      "#store wavefront to HDF5 file \n",
      "mwf.store_hdf5(ifname)\n",
      "\n",
      "#draw wavefront with common functions\n",
      "plt.subplot(1,2,1)\n",
      "plt.imshow(mwf.get_intensity(slice_number=0))\n",
      "plt.subplot(1,2,2)\n",
      "plt.imshow(mwf.get_phase(slice_number=0,polarization='vertical'))\n",
      "plt.show()\n",
      "\n",
      "#draw wavefront with cuts\n",
      "plot_wfront(mwf, title_fig='at '+str(z1)+' m',\n",
      "            isHlog=False, isVlog=False,\n",
      "            i_x_min=1e-5, i_y_min=1e-5, orient='x', onePlot=True)\n",
      "\n",
      "pylab.set_cmap('bone') #set color map, 'bone', 'hot', 'jet', etc\n",
      "fwhm_x = calculate_fwhm_x(mwf)\n",
      "print 'FWHMx [mm], theta_fwhm [urad]:',fwhm_x*1e3,fwhm_x/z1*1e6"
     ],
     "language": "python",
     "metadata": {},
     "outputs": [
      {
       "output_type": "stream",
       "stream": "stdout",
       "text": [
        "*****defining initial wavefront and writing electric field data to h5-file...\n",
        "waist_fwhm [um], theta_fwhms [urad]: 28.3217691481 3.86399794107\n",
        "save hdf5: g5_0kev.h5\n"
       ]
      },
      {
       "metadata": {},
       "output_type": "display_data",
       "png": "[encoded data removed]",
       "text": [
        "<matplotlib.figure.Figure at 0x3031210>"
       ]
      },
      {
       "output_type": "stream",
       "stream": "stdout",
       "text": [
        "FWHMx [mm]: "
       ]
      },
      {
       "output_type": "stream",
       "stream": "stdout",
       "text": [
        "0.943784566665\n",
        "FWHMy [mm]: "
       ]
      },
      {
       "output_type": "stream",
       "stream": "stdout",
       "text": [
        "0.943784566665\n",
        "Coordinates of center, [mm]: 0.0035480622807 0.0035480622807\n",
        "stepX, stepY [um]:"
       ]
      },
      {
       "output_type": "stream",
       "stream": "stdout",
       "text": [
        " 7.09612456139 7.09612456139 \n",
        "\n",
        "FWHMx [mm], theta_fwhm [urad]:"
       ]
      },
      {
       "output_type": "stream",
       "stream": "stdout",
       "text": [
        " 0.943784566665 3.82874063556\n"
       ]
      },
      {
       "metadata": {},
       "output_type": "display_data",
       "png": "[encoded data removed]",
       "text": [
        "<matplotlib.figure.Figure at 0x35b1050>"
       ]
      }
     ],
     "prompt_number": 6
    },
    {
     "cell_type": "heading",
     "level": 3,
     "metadata": {},
     "source": [
      "Defining optical beamline(s) "
     ]
    },
    {
     "cell_type": "code",
     "collapsed": false,
     "input": [
      "print('*****Defining optical beamline(s) ...')\n",
      "\n",
      "from matplotlib.pyplot import figure\n",
      "\n",
      "z2 = d2hkb - d2m1\n",
      "\n",
      "DriftM1_KB = SRWLOptD(z2) #Drift from first offset mirror (M1) to exp hall\n",
      "horApM1 = 0.8*thetaOM\n",
      "opApM1 = SRWLOptA('r', 'a', horApM1, range_xy)  # clear aperture of the Offset Mirror(s)\n",
      "horApKB = 0.8 * thetaKB # Aperture of the KB system, CA 0.8 m\n",
      "opApKB = SRWLOptA('r', 'a', horApKB, horApKB)  # clear aperture of the Offset Mirror(s)\n",
      "\n",
      "#Wavefront Propagation Parameters:\n",
      "#[0]:  Auto-Resize (1) or not (0) Before propagation\n",
      "#[1]:  Auto-Resize (1) or not (0) After propagation\n",
      "#[2]:  Relative Precision for propagation with Auto-Resizing (1. is nominal)\n",
      "#[3]:  Allow (1) or not (0) for semi-analytical treatment of quadratic phase terms at propagation\n",
      "#[4]:  Do any Resizing on Fourier side, using FFT, (1) or not (0)\n",
      "#[5]:  Horizontal Range modification factor at Resizing (1. means no modification)\n",
      "#[6]:  Horizontal Resolution modification factor at Resizing\n",
      "#[7]:  Vertical Range modification factor at Resizing\n",
      "#[8]:  Vertical Resolution modification factor at Resizing\n",
      "#[9]:  Type of wavefront Shift before Resizing (not yet implemented)\n",
      "#[10]: New Horizontal wavefront Center position after Shift (not yet implemented)\n",
      "#[11]: New Vertical wavefront Center position after Shift (not yet implemented)\n",
      "#                 [ 0] [1] [2]  [3] [4] [5]  [6]  [7]  [8]  [9] [10] [11] \n",
      "ppM1 =            [ 0,  0, 1.0,  0,  0, 1.0, 1.0, 1.0, 1.0,  0,  0,   0]\n",
      "ppTrErM1 =        [ 0,  0, 1.0,  0,  0, 1.0, 1.0, 1.0, 1.0,  0,  0,   0]\n",
      "ppDriftM1_KB =    [ 0,  0, 1.0,  1,  0, 2.4, 1.8, 2.4, 1.8,  0,  0,   0]\n",
      "ppApKB =          [ 0,  0, 1.0,  0,  0, 0.6, 8.0, 0.6, 4.0,  0,  0,   0]\n",
      "ppHKB =           [ 0,  0, 1.0,  1,  0, 1.0, 1.0, 1.0, 1.0,  0,  0,   0]\n",
      "ppTrErHKB =       [ 0,  0, 1.0,  0,  0, 1.0, 1.0, 1.0, 1.0,  0,  0,   0]\n",
      "ppDrift_HKB_foc = [ 0,  0, 1.0,  1,  0, 1.0, 1.0, 1.0, 1.0,  0,  0,   0]\n",
      "ppDrift_KB =      [ 0,  0, 1.0,  1,  0, 1.0, 1.0, 1.0, 1.0,  0,  0,   0]\n",
      "ppVKB =           [ 0,  0, 1.0,  0,  0, 1.0, 1.0, 1.0, 1.0,  0,  0,   0]\n",
      "ppTrErVKB =       [ 0,  0, 1.0,  0,  0, 1.0, 1.0, 1.0, 1.0,  0,  0,   0]\n",
      "ppDrift_foc =     [ 0,  0, 1.0,  1,  0, 1.0, 1.0, 1.0, 1.0,  0,  0,   0]\n",
      "#ppFin  =          [ 0,  0, 1.0,  0,  0, 0.05,5.0, 0.05,5.0,  0,  0,   0]\n",
      "ppFin =           [ 0,  0, 1.0,  0,  1, .01, 20.0, .01, 20.0,  0,  0,   0]\n",
      "\n",
      "optBL0 = SRWLOptC([opApM1,  DriftM1_KB], \n",
      "                    [ppM1,ppDriftM1_KB]) \n",
      "\n",
      "scale = 2     #5 mirror profile scaling factor \n",
      "print('*****HOM1 data for BL1 beamline ')\n",
      "opTrErM1 = SRWLOptT(1500, 100, horApM1, range_xy)\n",
      "#defineOPD(opTrErM1, os.path.join(strInputDataFolder,'mirror1.dat'), 2, '\\t', 'x',  thetaOM, scale)\n",
      "defineOPD(opTrErM1, os.path.join(strInputDataFolder,'mirror2.dat'), 2, ' ', 'x',  thetaOM, scale)\n",
      "opdTmp=numpy.array(opTrErM1.arTr)[1::2].reshape(opTrErM1.mesh.ny,opTrErM1.mesh.nx)\n",
      "figure()\n",
      "plot_2d(opdTmp, opTrErM1.mesh.xStart*1e3,opTrErM1.mesh.xFin*1e3,opTrErM1.mesh.yStart*1e3,opTrErM1.mesh.yFin*1e3,\n",
      "        'OPD [m]', 'x (mm)', 'y (mm)')  \n",
      "\n",
      "optBL1 = SRWLOptC([opApM1,opTrErM1,  DriftM1_KB], \n",
      "                    [ppM1,ppTrErM1,ppDriftM1_KB]) \n",
      "\n",
      "dhkb_vkb = dhkb_foc - dvkb_foc          # distance between centers of HFM and VFM\n",
      "d2vkb = d2hkb +  dhkb_vkb\n",
      "vkbfoc =  1. /(1./dvkb_foc + 1. / d2vkb) # for thin lens approx\n",
      "hkbfoc =  1. /(1./dhkb_foc + 1. / d2hkb) # for thin lens approx \n",
      "\n",
      "z3 = dhkb_vkb\n",
      "z4 = vkbfoc #distance to focal plane\n",
      "\n",
      "#HKB = SRWLOptMirEl(_p=d2hkb, _q=dhkb_foc, _ang_graz=thetaKB, _r_sag=1.e+40, _size_tang=0.85, _nvx=cos(thetaKB), _nvy=0, _nvz=-sin(thetaKB), _tvx=-sin(thetaKB), _tvy=0, _x=0, _y=0, _treat_in_out=1) #HKB Ellipsoidal Mirror\n",
      "#VKB = SRWLOptMirEl(_p=d2vkb, _q=dvkb_foc, _ang_graz=thetaKB, _r_sag=1.e+40, _size_tang=0.85, _nvx=0, _nvy=cos(thetaKB), _nvz=-sin(thetaKB), _tvx=0, _tvy=-sin(thetaKB), _x=0, _y=0, _treat_in_out=1) #VKB Ellipsoidal Mirror\n",
      "HKB = SRWLOptL(hkbfoc) #HKB as Thin Lens\n",
      "VKB = SRWLOptL(1e23,vkbfoc) #VKB as Thin Lens\n",
      "Drift_KB  = SRWLOptD(z3)\n",
      "Drift_foc = SRWLOptD(z4)\n",
      "optBL2 = SRWLOptC([opApM1,opTrErM1,  DriftM1_KB,opApKB, HKB,   Drift_KB,  VKB,  Drift_foc], \n",
      "                    [ppM1,ppTrErM1,ppDriftM1_KB,ppApKB,ppHKB,ppDrift_KB,ppVKB,ppDrift_foc,ppFin]) \n"
     ],
     "language": "python",
     "metadata": {},
     "outputs": [
      {
       "output_type": "stream",
       "stream": "stdout",
       "text": [
        "*****Defining optical beamline(s) ...\n",
        "*****HOM1 data for BL1 beamline \n"
       ]
      }
     ],
     "prompt_number": 7
    },
    {
     "cell_type": "heading",
     "level": 3,
     "metadata": {},
     "source": [
      "Propagating through BL0 beamline. Ideal mirror: HOM as an aperture"
     ]
    },
    {
     "cell_type": "code",
     "collapsed": false,
     "input": [
      "print '*****Ideal mirror: HOM as an aperture'\n",
      "bPlotted = False\n",
      "isHlog = False\n",
      "isVlog = False\n",
      "bSaved = True\n",
      "optBL = optBL0\n",
      "strBL = 'bl0'\n",
      "pos_title = 'at exp hall wall'\n",
      "print '*****setting-up optical elements, beamline:', strBL\n",
      "print_beamline(optBL)\n",
      "startTime = time.time()\n",
      "\n",
      "print '*****reading wavefront from h5 file...'\n",
      "w2 = Wavefront()\n",
      "w2.load_hdf5(ifname)\n",
      "wfr = w2._srwl_wf\n",
      "\n",
      "print '*****propagating wavefront (with resizing)...'\n",
      "srwl.PropagElecField(wfr, optBL)\n",
      "mwf = Wavefront(wfr)\n",
      "print '[nx, ny, xmin, xmax, ymin, ymax]', get_mesh(mwf)\n",
      "if bSaved:\n",
      "    print 'save hdf5:', fname0+'_'+strBL+'.h5'\n",
      "    mwf.store_hdf5(os.path.join(strOutputDataFolder, fname0+'_'+strBL+'.h5'))\n",
      "print 'done'\n",
      "print 'propagation lasted:', round((time.time() - startTime) / 6.) / 10., 'min'"
     ],
     "language": "python",
     "metadata": {},
     "outputs": [
      {
       "output_type": "stream",
       "stream": "stdout",
       "text": [
        "*****Ideal mirror: HOM as an aperture\n",
        "*****setting-up optical elements, beamline: bl0\n",
        "Optical Element: Aperture / Obstacle\n",
        "Prop. parameters = [0, 0, 1.0, 0, 0, 1.0, 1.0, 1.0, 1.0, 0, 0, 0]\n",
        "\tDx = 0.0028\n",
        "\tDy = 0.0028313537\n",
        "\tap_or_ob = a\n",
        "\tshape = r\n",
        "\tx = 0\n",
        "\ty = 0\n",
        "\t\n",
        "Optical Element: Drift Space\n",
        "Prop. parameters = [0, 0, 1.0, 1, 0, 2.4, 1.8, 2.4, 1.8, 0, 0, 0]\n",
        "\tL = 683.1\n",
        "\ttreat = 0\n",
        "\t\n",
        "\n",
        "*****reading wavefront from h5 file...\n",
        "*****propagating wavefront (with resizing)..."
       ]
      },
      {
       "output_type": "stream",
       "stream": "stdout",
       "text": [
        "\n",
        "[nx, ny, xmin, xmax, ymin, ymax]"
       ]
      },
      {
       "output_type": "stream",
       "stream": "stdout",
       "text": [
        " [1728, 1728, -0.00768337191673277, 0.007683371916732772, -0.007726062980405428, 0.00772606298040543]\n",
        "save hdf5: g5_0kev_bl0.h5\n",
        "done"
       ]
      },
      {
       "output_type": "stream",
       "stream": "stdout",
       "text": [
        "\n",
        "propagation lasted: 0.2 min\n"
       ]
      }
     ],
     "prompt_number": 8
    },
    {
     "cell_type": "code",
     "collapsed": false,
     "input": [
      "print '*****Ideal mirror: HOM as an aperture'\n",
      "plot_wfront(mwf, 'at '+str(z1+z2)+' m',False, False, 1e-5,1e-5,'x', True)\n",
      "#pylab.set_cmap('bone') #set color map, 'bone', 'hot', 'jet', etc\n",
      "pylab.axis('tight')    \n",
      "print 'FWHMx [mm], theta_fwhm [urad]:',calculate_fwhm_x(mwf)*1e3,calculate_fwhm_x(mwf)/(z1+z2)*1e6\n",
      "print 'FWHMy [mm], theta_fwhm [urad]:',calculate_fwhm_y(mwf)*1e3,calculate_fwhm_y(mwf)/(z1+z2)*1e6"
     ],
     "language": "python",
     "metadata": {},
     "outputs": [
      {
       "output_type": "stream",
       "stream": "stdout",
       "text": [
        "*****Ideal mirror: HOM as an aperture\n",
        "FWHMx [mm]: "
       ]
      },
      {
       "output_type": "stream",
       "stream": "stdout",
       "text": [
        "3.58587015917\n",
        "FWHMy [mm]: "
       ]
      },
      {
       "output_type": "stream",
       "stream": "stdout",
       "text": [
        "3.5521100211\n",
        "Coordinates of center, [mm]:"
       ]
      },
      {
       "output_type": "stream",
       "stream": "stdout",
       "text": [
        " 0.0489386746289 0.0134210706087\n",
        "stepX, stepY [um]:"
       ]
      },
      {
       "output_type": "stream",
       "stream": "stdout",
       "text": [
        " 8.89794084161 8.9473804058 \n",
        "\n",
        "FWHMx [mm], theta_fwhm [urad]:"
       ]
      },
      {
       "output_type": "stream",
       "stream": "stdout",
       "text": [
        " 3.58587015917 "
       ]
      },
      {
       "output_type": "stream",
       "stream": "stdout",
       "text": [
        "3.85743347587\n",
        "FWHMy [mm], theta_fwhm [urad]: "
       ]
      },
      {
       "output_type": "stream",
       "stream": "stdout",
       "text": [
        "3.5521100211 "
       ]
      },
      {
       "output_type": "stream",
       "stream": "stdout",
       "text": [
        "3.82111663199\n"
       ]
      }
     ],
     "prompt_number": 9
    },
    {
     "cell_type": "heading",
     "level": 3,
     "metadata": {},
     "source": [
      "Propagating through BL1 beamline. Imperfect mirror, at KB aperture"
     ]
    },
    {
     "cell_type": "code",
     "collapsed": false,
     "input": [
      "print ('*****Imperfect HOM mirror, at KB aperture')\n",
      "bPlotted = False\n",
      "isHlog = True\n",
      "isVlog = False\n",
      "bSaved = False\n",
      "optBL = optBL1\n",
      "strBL = 'bl1'\n",
      "pos_title = 'at exp hall wall'\n",
      "print '*****setting-up optical elements, beamline:', strBL\n",
      "print_beamline(optBL)\n",
      "startTime = time.time()\n",
      "print '*****reading wavefront from h5 file...'\n",
      "w2 = Wavefront()\n",
      "w2.load_hdf5(ifname)\n",
      "wfr = w2._srwl_wf\n",
      "print '*****propagating wavefront (with resizing)...'\n",
      "srwl.PropagElecField(wfr, optBL)\n",
      "mwf = Wavefront(wfr)\n",
      "print '[nx, ny, xmin, xmax, ymin, ymax]', get_mesh(mwf)\n",
      "if bSaved:\n",
      "    print 'save hdf5:', fname0+'_'+strBL+'.h5'\n",
      "    mwf.store_hdf5(os.path.join(strOutputDataFolder,fname0+'_'+strBL+'.h5'))\n",
      "print 'done'\n",
      "print 'propagation lasted:', round((time.time() - startTime) / 6.) / 10., 'min'"
     ],
     "language": "python",
     "metadata": {},
     "outputs": [
      {
       "output_type": "stream",
       "stream": "stdout",
       "text": [
        "*****Imperfect HOM mirror, at KB aperture\n",
        "*****setting-up optical elements, beamline: bl1\n",
        "Optical Element: Aperture / Obstacle\n",
        "Prop. parameters = [0, 0, 1.0, 0, 0, 1.0, 1.0, 1.0, 1.0, 0, 0, 0]\n",
        "\tDx = 0.0028\n",
        "\tDy = 0.0028313537\n",
        "\tap_or_ob = a\n",
        "\tshape = r\n",
        "\tx = 0\n",
        "\ty = 0\n",
        "\t\n",
        "Optical Element: Transmission (generic)\n",
        "Prop. parameters = [0, 0, 1.0, 0, 0, 1.0, 1.0, 1.0, 1.0, 0, 0, 0]\n",
        "\tFx = 1e+23\n",
        "\tFy = 1e+23\n",
        "\tarTr = array of size 300000\n",
        "\textTr = 0\n",
        "\tmesh = Radiation Mesh (Sampling)\n",
        "\t\teFin = 0\n",
        "\t\teStart = 0\n",
        "\t\tne = 1\n",
        "\t\tnx = 1500\n",
        "\t\tny = 100\n",
        "\t\txFin = 0.0014\n",
        "\t\txStart = -0.0014\n",
        "\t\tyFin = 0.00141567685\n",
        "\t\tyStart = -0.00141567685\n",
        "\t\tzStart = 0\n",
        "\t\n",
        "\t\n",
        "Optical Element: Drift Space\n",
        "Prop. parameters = [0, 0, 1.0, 1, 0, 2.4, 1.8, 2.4, 1.8, 0, 0, 0]\n",
        "\tL = 683.1\n",
        "\ttreat = 0\n",
        "\t\n"
       ]
      },
      {
       "output_type": "stream",
       "stream": "stdout",
       "text": [
        "\n",
        "*****reading wavefront from h5 file...\n",
        "*****propagating wavefront (with resizing)..."
       ]
      },
      {
       "output_type": "stream",
       "stream": "stdout",
       "text": [
        "\n",
        "[nx, ny, xmin, xmax, ymin, ymax]"
       ]
      },
      {
       "output_type": "stream",
       "stream": "stdout",
       "text": [
        " [1728, 1728, -0.007700854156063072, 0.007700854156063072, -0.007726062980405428, 0.00772606298040543]\n",
        "done\n",
        "propagation lasted: 0.1 min\n"
       ]
      }
     ],
     "prompt_number": 10
    },
    {
     "cell_type": "code",
     "collapsed": false,
     "input": [
      "print ('*****Imperfect HOM mirror, at KB aperture')\n",
      "plot_wfront(mwf, 'at '+str(z1+z2)+' m',False, False, 1e-5,1e-5,'x', True)\n",
      "#pylab.set_cmap('bone') #set color map, 'bone', 'hot', etc\n",
      "pylab.axis('tight')    \n",
      "print 'FWHMx [mm], theta_fwhm [urad]:',calculate_fwhm_x(mwf)*1e3,calculate_fwhm_x(mwf)/(z1+z2)*1e6\n",
      "print 'FWHMy [mm], theta_fwhm [urad]:',calculate_fwhm_y(mwf)*1e3,calculate_fwhm_y(mwf)/(z1+z2)*1e6"
     ],
     "language": "python",
     "metadata": {},
     "outputs": [
      {
       "output_type": "stream",
       "stream": "stdout",
       "text": [
        "*****Imperfect HOM mirror, at KB aperture\n",
        "FWHMx [mm]: "
       ]
      },
      {
       "output_type": "stream",
       "stream": "stdout",
       "text": [
        "2.91624702841\n",
        "FWHMy [mm]: "
       ]
      },
      {
       "output_type": "stream",
       "stream": "stdout",
       "text": [
        "3.5521100211\n",
        "Coordinates of center, [mm]:"
       ]
      },
      {
       "output_type": "stream",
       "stream": "stdout",
       "text": [
        " -0.967623249488 0.0134210706087\n",
        "stepX, stepY [um]:"
       ]
      },
      {
       "output_type": "stream",
       "stream": "stdout",
       "text": [
        " 8.91818663123 8.9473804058 \n",
        "\n",
        "FWHMx [mm], theta_fwhm [urad]:"
       ]
      },
      {
       "output_type": "stream",
       "stream": "stdout",
       "text": [
        " 2.91624702841 "
       ]
      },
      {
       "output_type": "stream",
       "stream": "stdout",
       "text": [
        "3.13709878271\n",
        "FWHMy [mm], theta_fwhm [urad]: "
       ]
      },
      {
       "output_type": "stream",
       "stream": "stdout",
       "text": [
        "3.5521100211 "
       ]
      },
      {
       "output_type": "stream",
       "stream": "stdout",
       "text": [
        "3.82111663199\n"
       ]
      }
     ],
     "prompt_number": 11
    },
    {
     "cell_type": "heading",
     "level": 3,
     "metadata": {},
     "source": [
      "Propagating through BL2 beamline. Focused beam: perfect KB"
     ]
    },
    {
     "cell_type": "code",
     "collapsed": false,
     "input": [
      "print ('*****Focused beam: perfect KB')\n",
      "bSaved = False\n",
      "z3 = dhkb_vkb\n",
      "z4 = dvkb_foc \n",
      "z4 = vkbfoc #distance to focal plane\n",
      "\n",
      "#HKB = SRWLOptMirEl(_p=d2hkb, _q=dhkb_foc, _ang_graz=thetaKB, _r_sag=1.e+40, _size_tang=0.85, _nvx=cos(thetaKB), _nvy=0, _nvz=-sin(thetaKB), _tvx=-sin(thetaKB), _tvy=0, _x=0, _y=0, _treat_in_out=1) #HKB Ellipsoidal Mirror\n",
      "#VKB = SRWLOptMirEl(_p=d2vkb, _q=dvkb_foc, _ang_graz=thetaKB, _r_sag=1.e+40, _size_tang=0.85, _nvx=0, _nvy=cos(thetaKB), _nvz=-sin(thetaKB), _tvx=0, _tvy=-sin(thetaKB), _x=0, _y=0, _treat_in_out=1) #VKB Ellipsoidal Mirror\n",
      "#HKB = SRWLOptL(hkbfoc) #HKB as Thin Lens\n",
      "#VKB = SRWLOptL(1e23,vkbfoc) #VKB as Thin Lens\n",
      "Drift_foc = SRWLOptD(dvkb_foc)\n",
      "#optBL2 = SRWLOptC([opApM1,  DriftM1_KB,opApKB, HKB,   Drift_KB,  VKB,  Drift_foc], \n",
      "#                    [ppM1,ppDriftM1_KB,ppApKB,ppHKB,ppDrift_KB,ppVKB,ppDrift_foc,ppFin]) \n",
      "optBL2 = SRWLOptC([opApM1,opTrErM1,  DriftM1_KB,opApKB, HKB,   Drift_KB,  VKB,  Drift_foc], \n",
      "                    [ppM1,ppTrErM1,ppDriftM1_KB,ppApKB,ppHKB,ppDrift_KB,ppVKB,ppDrift_foc]) \n",
      "optBL = optBL2\n",
      "strBL = 'bl2'\n",
      "pos_title = 'at sample position'\n",
      "print '*****setting-up optical elements, beamline:', strBL\n",
      "print_beamline(optBL)\n",
      "startTime = time.time()\n",
      "print '*****reading wavefront from h5 file...'\n",
      "w2 = Wavefront()\n",
      "w2.load_hdf5(ifname)\n",
      "wfr = w2._srwl_wf\n",
      "print '*****propagating wavefront (with resizing)...'\n",
      "srwl.PropagElecField(wfr, optBL)\n",
      "mwf = Wavefront(wfr)\n",
      "print '[nx, ny, xmin, xmax, ymin, ymax]', get_mesh(mwf)\n",
      "if bSaved:\n",
      "    print 'save hdf5:', fname0+'_'+strBL+'.h5'\n",
      "    mwf.store_hdf5(os.path.join(strOutputDataFolder,fname0+'_'+strBL+'.h5'))\n",
      "print 'done'\n",
      "print 'propagation lasted:', round((time.time() - startTime) / 6.) / 10., 'min'"
     ],
     "language": "python",
     "metadata": {},
     "outputs": [
      {
       "output_type": "stream",
       "stream": "stdout",
       "text": [
        "*****Focused beam: perfect KB\n",
        "*****setting-up optical elements, beamline: bl2\n",
        "Optical Element: Aperture / Obstacle\n",
        "Prop. parameters = [0, 0, 1.0, 0, 0, 1.0, 1.0, 1.0, 1.0, 0, 0, 0]\n",
        "\tDx = 0.0028\n",
        "\tDy = 0.0028313537\n",
        "\tap_or_ob = a\n",
        "\tshape = r\n",
        "\tx = 0\n",
        "\ty = 0\n",
        "\t\n",
        "Optical Element: Transmission (generic)\n",
        "Prop. parameters = [0, 0, 1.0, 0, 0, 1.0, 1.0, 1.0, 1.0, 0, 0, 0]\n",
        "\tFx = 1e+23\n",
        "\tFy = 1e+23\n",
        "\tarTr = array of size 300000\n",
        "\textTr = 0\n",
        "\tmesh = Radiation Mesh (Sampling)\n",
        "\t\teFin = 0\n",
        "\t\teStart = 0\n",
        "\t\tne = 1\n",
        "\t\tnx = 1500\n",
        "\t\tny = 100\n",
        "\t\txFin = 0.0014\n",
        "\t\txStart = -0.0014\n",
        "\t\tyFin = 0.00141567685\n",
        "\t\tyStart = -0.00141567685\n",
        "\t\tzStart = 0\n",
        "\t\n",
        "\t\n",
        "Optical Element: Drift Space\n",
        "Prop. parameters = [0, 0, 1.0, 1, 0, 2.4, 1.8, 2.4, 1.8, 0, 0, 0]\n",
        "\tL = 683.1\n",
        "\ttreat = 0\n",
        "\t\n",
        "Optical Element: Aperture / Obstacle\n",
        "Prop. parameters = [0, 0, 1.0, 0, 0, 0.6, 8.0, 0.6, 4.0, 0, 0, 0]\n",
        "\tDx = 0.0028\n",
        "\tDy = 0.0028\n",
        "\tap_or_ob = a\n",
        "\tshape = r\n",
        "\tx = 0\n",
        "\ty = 0\n",
        "\t\n",
        "Optical Element: Thin Lens\n",
        "Prop. parameters = [0, 0, 1.0, 1, 0, 1.0, 1.0, 1.0, 1.0, 0, 0, 0]\n",
        "\tFx = 2.99034956037\n",
        "\tFy = 1e+23\n",
        "\tx = 0\n",
        "\ty = 0\n",
        "\t\n",
        "Optical Element: Drift Space\n",
        "Prop. parameters = [0, 0, 1.0, 1, 0, 1.0, 1.0, 1.0, 1.0, 0, 0, 0]\n",
        "\tL = 1.1\n",
        "\ttreat = 0\n",
        "\t\n",
        "Optical Element: Thin Lens\n",
        "Prop. parameters = [0, 0, 1.0, 0, 0, 1.0, 1.0, 1.0, 1.0, 0, 0, 0]\n",
        "\tFx = 1e+23\n",
        "\tFy = 1.89612910144\n",
        "\tx = 0\n",
        "\ty = 0\n",
        "\t\n",
        "Optical Element: Drift Space\n",
        "Prop. parameters = [0, 0, 1.0, 1, 0, 1.0, 1.0, 1.0, 1.0, 0, 0, 0]\n",
        "\tL = 1.9\n",
        "\ttreat = 0\n",
        "\t\n"
       ]
      },
      {
       "output_type": "stream",
       "stream": "stdout",
       "text": [
        "\n",
        "*****reading wavefront from h5 file...\n",
        "*****propagating wavefront (with resizing)..."
       ]
      },
      {
       "output_type": "stream",
       "stream": "stdout",
       "text": [
        "\n",
        "[nx, ny, xmin, xmax, ymin, ymax]"
       ]
      },
      {
       "output_type": "stream",
       "stream": "stdout",
       "text": [
        " [8316, 4158, -2.6493402849459373e-05, 2.6493402849459387e-05, -3.224346725954781e-05, 3.224346725954782e-05]\n",
        "done\n",
        "propagation lasted: 1.2 min\n"
       ]
      }
     ],
     "prompt_number": 12
    },
    {
     "cell_type": "code",
     "collapsed": false,
     "input": [
      "print ('*****Focused beam: Focused beam: perfect KB')\n",
      "bOnePlot = True\n",
      "isHlog = False\n",
      "isVlog = False\n",
      "plot_wfront(mwf, 'at '+str(z1+z2+z3+z4)+' m',isHlog, isVlog, 1e-5,1e-5,'x', bOnePlot)\n",
      "#pylab.set_cmap('bone') #set color map, 'bone', 'hot', etc\n",
      "pylab.axis('tight')    \n",
      "print 'FWHMx [um], FWHMy [um]:',calculate_fwhm_x(mwf)*1e6,calculate_fwhm_y(mwf)*1e6"
     ],
     "language": "python",
     "metadata": {},
     "outputs": [
      {
       "output_type": "stream",
       "stream": "stdout",
       "text": [
        "*****Focused beam: Focused beam: perfect KB\n",
        "FWHMx [mm]: "
       ]
      },
      {
       "output_type": "stream",
       "stream": "stdout",
       "text": [
        "0.000229407697554\n",
        "FWHMy [mm]: "
       ]
      },
      {
       "output_type": "stream",
       "stream": "stdout",
       "text": [
        "0.000139615686955\n",
        "Coordinates of center, [mm]:"
       ]
      },
      {
       "output_type": "stream",
       "stream": "stdout",
       "text": [
        " -2.86759621942e-05 7.75642705306e-06\n",
        "stepX, stepY [um]:"
       ]
      },
      {
       "output_type": "stream",
       "stream": "stdout",
       "text": [
        " 0.00637243604317 0.0155128541061 \n",
        "\n",
        "FWHMx [um], FWHMy [um]:"
       ]
      },
      {
       "output_type": "stream",
       "stream": "stdout",
       "text": [
        " 0.229407697554 "
       ]
      },
      {
       "output_type": "stream",
       "stream": "stdout",
       "text": [
        "0.139615686955\n"
       ]
      }
     ],
     "prompt_number": 13
    },
    {
     "cell_type": "code",
     "collapsed": false,
     "input": [
      "print('*****HKB data  ')\n",
      "scale = 2 #scaling factor of mirror\n",
      "opTrErHKB = SRWLOptT(1500, 100, horApKB, horApKB)\n",
      "defineOPD(opTrErHKB, os.path.join(strInputDataFolder,'mirror1.dat'), 2, '\\t', 'x',  thetaOM, scale)\n",
      "opdTmp=numpy.array(opTrErHKB.arTr)[1::2].reshape(opTrErHKB.mesh.ny,opTrErHKB.mesh.nx)\n",
      "figure()\n",
      "plot_2d(opdTmp, opTrErM1.mesh.xStart*1e3,opTrErM1.mesh.xFin*1e3,opTrErM1.mesh.yStart*1e3,opTrErM1.mesh.yFin*1e3,\n",
      "        'OPD [m]', 'x (mm)', 'y (mm)')  \n",
      "print('*****VKB data  ')\n",
      "opTrErVKB = SRWLOptT(100, 1500, horApKB, horApKB)\n",
      "defineOPD(opTrErVKB, os.path.join(strInputDataFolder,'mirror2.dat'), 2, ' ', 'y',  thetaOM, scale)\n",
      "opdTmp=numpy.array(opTrErVKB.arTr)[1::2].reshape(opTrErVKB.mesh.ny,opTrErVKB.mesh.nx)\n",
      "figure()\n",
      "plot_2d(opdTmp, opTrErVKB.mesh.xStart*1e3,opTrErVKB.mesh.xFin*1e3,opTrErVKB.mesh.yStart*1e3,opTrErVKB.mesh.yFin*1e3,\n",
      "        'OPD [m]', 'x (mm)', 'y (mm)')  "
     ],
     "language": "python",
     "metadata": {},
     "outputs": [
      {
       "output_type": "stream",
       "stream": "stdout",
       "text": [
        "*****HKB data  \n",
        "*****VKB data  "
       ]
      },
      {
       "output_type": "stream",
       "stream": "stdout",
       "text": [
        "\n"
       ]
      }
     ],
     "prompt_number": 14
    },
    {
     "cell_type": "code",
     "collapsed": false,
     "input": [],
     "language": "python",
     "metadata": {},
     "outputs": [],
     "prompt_number": 14
    },
    {
     "cell_type": "code",
     "collapsed": false,
     "input": [
      "print ('*****Focused beam on focus: imperfect KB')\n",
      "z3 = dhkb_vkb\n",
      "z4 = dvkb_foc #distance to focal plane\n",
      "#z4 = vkbfoc  #focus distance of lens\n",
      "\n",
      "#HKB = SRWLOptMirEl(_p=d2hkb, _q=dhkb_foc, _ang_graz=thetaKB, _r_sag=1.e+40, _size_tang=0.85, _nvx=cos(thetaKB), _nvy=0, _nvz=-sin(thetaKB), _tvx=-sin(thetaKB), _tvy=0, _x=0, _y=0, _treat_in_out=1) #HKB Ellipsoidal Mirror\n",
      "#VKB = SRWLOptMirEl(_p=d2vkb, _q=dvkb_foc, _ang_graz=thetaKB, _r_sag=1.e+40, _size_tang=0.85, _nvx=0, _nvy=cos(thetaKB), _nvz=-sin(thetaKB), _tvx=0, _tvy=-sin(thetaKB), _x=0, _y=0, _treat_in_out=1) #VKB Ellipsoidal Mirror\n",
      "#HKB = SRWLOptL(hkbfoc) #HKB as Thin Lens\n",
      "#VKB = SRWLOptL(1e23,vkbfoc) #VKB as Thin Lens\n",
      "Drift_foc = SRWLOptD(z4)\n",
      "optBL2 = SRWLOptC([opApM1,opTrErM1,  DriftM1_KB,opApKB, HKB,opTrErHKB,  Drift_KB,  VKB,opTrErVKB,  Drift_foc], \n",
      "                    [ppM1,ppTrErM1,ppDriftM1_KB,ppApKB,ppHKB,ppTrErM1,ppDrift_KB,ppVKB,ppTrErM1, ppDrift_foc]) \n",
      "optBL = optBL2\n",
      "strBL = 'bl2'\n",
      "pos_title = 'at sample position'\n",
      "print '*****setting-up optical elements, beamline:', strBL\n",
      "print_beamline(optBL)\n",
      "startTime = time.time()\n",
      "print '*****reading wavefront from h5 file...'\n",
      "w2 = Wavefront()\n",
      "w2.load_hdf5(ifname)\n",
      "wfr = w2._srwl_wf\n",
      "print '*****propagating wavefront (with resizing)...'\n",
      "srwl.PropagElecField(wfr, optBL)\n",
      "mwf = Wavefront(wfr)\n",
      "print '[nx, ny, xmin, xmax, ymin, ymax]', get_mesh(mwf)\n",
      "if bSaved:\n",
      "    print 'save hdf5:', fname0+'_'+strBL+'.h5'\n",
      "    mwf.store_hdf5(os.path.join(strOutputDataFolder,fname0+'_'+strBL+'.h5'))\n",
      "print 'done'\n",
      "print 'propagation lasted:', round((time.time() - startTime) / 6.) / 10., 'min'"
     ],
     "language": "python",
     "metadata": {},
     "outputs": [
      {
       "output_type": "stream",
       "stream": "stdout",
       "text": [
        "*****Focused beam on focus: imperfect KB\n",
        "*****setting-up optical elements, beamline: bl2\n",
        "Optical Element: Aperture / Obstacle\n",
        "Prop. parameters = [0, 0, 1.0, 0, 0, 1.0, 1.0, 1.0, 1.0, 0, 0, 0]\n",
        "\tDx = 0.0028\n",
        "\tDy = 0.0028313537\n",
        "\tap_or_ob = a\n",
        "\tshape = r\n",
        "\tx = 0\n",
        "\ty = 0\n",
        "\t\n",
        "Optical Element: Transmission (generic)\n",
        "Prop. parameters = [0, 0, 1.0, 0, 0, 1.0, 1.0, 1.0, 1.0, 0, 0, 0]\n",
        "\tFx = 1e+23\n",
        "\tFy = 1e+23\n",
        "\tarTr = array of size 300000\n",
        "\textTr = 0\n",
        "\tmesh = Radiation Mesh (Sampling)\n",
        "\t\teFin = 0\n",
        "\t\teStart = 0\n",
        "\t\tne = 1\n",
        "\t\tnx = 1500\n",
        "\t\tny = 100\n",
        "\t\txFin = 0.0014\n",
        "\t\txStart = -0.0014\n",
        "\t\tyFin = 0.00141567685\n",
        "\t\tyStart = -0.00141567685\n",
        "\t\tzStart = 0\n",
        "\t\n",
        "\t\n",
        "Optical Element: Drift Space\n",
        "Prop. parameters = [0, 0, 1.0, 1, 0, 2.4, 1.8, 2.4, 1.8, 0, 0, 0]\n",
        "\tL = 683.1\n",
        "\ttreat = 0\n",
        "\t\n",
        "Optical Element: Aperture / Obstacle\n",
        "Prop. parameters = [0, 0, 1.0, 0, 0, 0.6, 8.0, 0.6, 4.0, 0, 0, 0]\n",
        "\tDx = 0.0028\n",
        "\tDy = 0.0028\n",
        "\tap_or_ob = a\n",
        "\tshape = r\n",
        "\tx = 0\n",
        "\ty = 0\n",
        "\t\n",
        "Optical Element: Thin Lens\n",
        "Prop. parameters = [0, 0, 1.0, 1, 0, 1.0, 1.0, 1.0, 1.0, 0, 0, 0]\n",
        "\tFx = 2.99034956037\n",
        "\tFy = 1e+23\n",
        "\tx = 0\n",
        "\ty = 0\n",
        "\t\n",
        "Optical Element: Transmission (generic)\n",
        "Prop. parameters = [0, 0, 1.0, 0, 0, 1.0, 1.0, 1.0, 1.0, 0, 0, 0]\n",
        "\tFx = 1e+23\n",
        "\tFy = 1e+23\n",
        "\tarTr = array of size 300000\n",
        "\textTr = 0\n",
        "\tmesh = Radiation Mesh (Sampling)\n",
        "\t\teFin = 0\n",
        "\t\teStart = 0\n",
        "\t\tne = 1\n",
        "\t\tnx = 1500\n",
        "\t\tny = 100\n",
        "\t\txFin = 0.0014\n",
        "\t\txStart = -0.0014\n",
        "\t\tyFin = 0.0014\n",
        "\t\tyStart = -0.0014\n",
        "\t\tzStart = 0\n",
        "\t\n",
        "\t\n",
        "Optical Element: Drift Space\n",
        "Prop. parameters = [0, 0, 1.0, 1, 0, 1.0, 1.0, 1.0, 1.0, 0, 0, 0]\n",
        "\tL = 1.1\n",
        "\ttreat = 0\n",
        "\t\n",
        "Optical Element: Thin Lens\n",
        "Prop. parameters = [0, 0, 1.0, 0, 0, 1.0, 1.0, 1.0, 1.0, 0, 0, 0]\n",
        "\tFx = 1e+23\n",
        "\tFy = 1.89612910144\n",
        "\tx = 0\n",
        "\ty = 0\n",
        "\t\n",
        "Optical Element: Transmission (generic)\n",
        "Prop. parameters = [0, 0, 1.0, 0, 0, 1.0, 1.0, 1.0, 1.0, 0, 0, 0]\n",
        "\tFx = 1e+23\n",
        "\tFy = 1e+23\n",
        "\tarTr = array of size 300000\n",
        "\textTr = 0\n",
        "\tmesh = Radiation Mesh (Sampling)\n",
        "\t\teFin = 0\n",
        "\t\teStart = 0\n",
        "\t\tne = 1\n",
        "\t\tnx = 100\n",
        "\t\tny = 1500\n",
        "\t\txFin = 0.0014\n",
        "\t\txStart = -0.0014\n",
        "\t\tyFin = 0.0014\n",
        "\t\tyStart = -0.0014\n",
        "\t\tzStart = 0\n",
        "\t\n",
        "\t\n",
        "Optical Element: Drift Space\n",
        "Prop. parameters = [0, 0, 1.0, 1, 0, 1.0, 1.0, 1.0, 1.0, 0, 0, 0]\n",
        "\tL = 1.9\n",
        "\ttreat = 0\n",
        "\t\n"
       ]
      },
      {
       "output_type": "stream",
       "stream": "stdout",
       "text": [
        "\n",
        "*****reading wavefront from h5 file...\n",
        "*****propagating wavefront (with resizing)..."
       ]
      },
      {
       "output_type": "stream",
       "stream": "stdout",
       "text": [
        "\n",
        "[nx, ny, xmin, xmax, ymin, ymax]"
       ]
      },
      {
       "output_type": "stream",
       "stream": "stdout",
       "text": [
        " [8316, 4158, -2.6493402849459373e-05, 2.6493402849459387e-05, -3.224346725954781e-05, 3.224346725954782e-05]\n",
        "done\n",
        "propagation lasted: 1.2 min\n"
       ]
      }
     ],
     "prompt_number": 15
    },
    {
     "cell_type": "code",
     "collapsed": false,
     "input": [
      "print ('*****Focused beam: Focused beam: imperfect KB')\n",
      "bOnePlot= True\n",
      "isHlog = False\n",
      "isVlog = False\n",
      "bSaved = False\n",
      "plot_wfront(mwf, 'at '+str(z1+z2+z3+z4)+' m',isHlog, isVlog, 1e-3,1e-3,'x', bOnePlot)\n",
      "#pylab.set_cmap('bone') #set color map, 'bone', 'hot', etc\n",
      "pylab.axis('tight')    \n",
      "print 'FWHMx [um], FWHMy [um]:',calculate_fwhm_x(mwf)*1e6,calculate_fwhm_y(mwf)*1e6"
     ],
     "language": "python",
     "metadata": {},
     "outputs": [
      {
       "output_type": "stream",
       "stream": "stdout",
       "text": [
        "*****Focused beam: Focused beam: imperfect KB\n",
        "FWHMx [mm]: "
       ]
      },
      {
       "output_type": "stream",
       "stream": "stdout",
       "text": [
        "0.000235780133597\n",
        "FWHMy [mm]: "
       ]
      },
      {
       "output_type": "stream",
       "stream": "stdout",
       "text": [
        "0.000139615686955\n",
        "Coordinates of center, [mm]:"
       ]
      },
      {
       "output_type": "stream",
       "stream": "stdout",
       "text": [
        " -2.86759621942e-05 -7.75642705305e-06\n",
        "stepX, stepY [um]:"
       ]
      },
      {
       "output_type": "stream",
       "stream": "stdout",
       "text": [
        " 0.00637243604317 0.0155128541061 \n",
        "\n",
        "FWHMx [um], FWHMy [um]:"
       ]
      },
      {
       "output_type": "stream",
       "stream": "stdout",
       "text": [
        " 0.235780133597 "
       ]
      },
      {
       "output_type": "stream",
       "stream": "stdout",
       "text": [
        "0.139615686955\n"
       ]
      }
     ],
     "prompt_number": 16
    },
    {
     "cell_type": "code",
     "collapsed": false,
     "input": [
      "\n",
      "print ('*****Focused beam behind focus: imperfect KB')\n",
      "#optBL2 = SRWLOptC([opApM1,opTrErM1,  DriftM1_KB,opApKB, HKB,   Drift_KB,  VKB,  Drift_foc], \n",
      "#                    [ppM1,ppTrErM1,ppDriftM1_KB,ppApKB,ppHKB,ppDrift_KB,ppVKB,ppDrift_foc]) \n",
      "z3 = dhkb_vkb\n",
      "#z4 = dvkb_foc #distance to focal plane\n",
      "z4 = vkbfoc\n",
      "\n",
      "#HKB = SRWLOptMirEl(_p=d2hkb, _q=dhkb_foc, _ang_graz=thetaKB, _r_sag=1.e+40, _size_tang=0.85, _nvx=cos(thetaKB), _nvy=0, _nvz=-sin(thetaKB), _tvx=-sin(thetaKB), _tvy=0, _x=0, _y=0, _treat_in_out=1) #HKB Ellipsoidal Mirror\n",
      "#VKB = SRWLOptMirEl(_p=d2vkb, _q=dvkb_foc, _ang_graz=thetaKB, _r_sag=1.e+40, _size_tang=0.85, _nvx=0, _nvy=cos(thetaKB), _nvz=-sin(thetaKB), _tvx=0, _tvy=-sin(thetaKB), _x=0, _y=0, _treat_in_out=1) #VKB Ellipsoidal Mirror\n",
      "#HKB = SRWLOptL(hkbfoc) #HKB as Thin Lens\n",
      "#VKB = SRWLOptL(1e23,vkbfoc) #VKB as Thin Lens\n",
      "Drift_foc = SRWLOptD(z4)\n",
      "optBL2 = SRWLOptC([opApM1,opTrErM1,  DriftM1_KB,opApKB, HKB,opTrErHKB,  Drift_KB,  VKB,opTrErVKB,  Drift_foc], \n",
      "                    [ppM1,ppTrErM1,ppDriftM1_KB,ppApKB,ppHKB,ppTrErM1,ppDrift_KB,ppVKB,ppTrErM1, ppDrift_foc]) \n",
      "optBL = optBL2\n",
      "strBL = 'bl2'\n",
      "pos_title = 'at sample position'\n",
      "print '*****setting-up optical elements, beamline:', strBL\n",
      "print_beamline(optBL)\n",
      "startTime = time.time()\n",
      "print '*****reading wavefront from h5 file...'\n",
      "w2 = Wavefront()\n",
      "w2.load_hdf5(ifname)\n",
      "wfr = w2._srwl_wf\n",
      "print '*****propagating wavefront (with resizing)...'\n",
      "srwl.PropagElecField(wfr, optBL)\n",
      "mwf = Wavefront(wfr)\n",
      "print '[nx, ny, xmin, xmax, ymin, ymax]', get_mesh(mwf)\n",
      "if bSaved:\n",
      "    print 'save hdf5:', fname0+'_'+strBL+'.h5'\n",
      "    mwf.store_hdf5(os.path.join(strOutputDataFolder,fname0+'_'+strBL+'.h5'))\n",
      "print 'done'\n",
      "print 'propagation lasted:', round((time.time() - startTime) / 6.) / 10., 'min'"
     ],
     "language": "python",
     "metadata": {},
     "outputs": [
      {
       "output_type": "stream",
       "stream": "stdout",
       "text": [
        "*****Focused beam behind focus: imperfect KB\n",
        "*****setting-up optical elements, beamline: bl2\n",
        "Optical Element: Aperture / Obstacle\n",
        "Prop. parameters = [0, 0, 1.0, 0, 0, 1.0, 1.0, 1.0, 1.0, 0, 0, 0]\n",
        "\tDx = 0.0028\n",
        "\tDy = 0.0028313537\n",
        "\tap_or_ob = a\n",
        "\tshape = r\n",
        "\tx = 0\n",
        "\ty = 0\n",
        "\t\n",
        "Optical Element: Transmission (generic)\n",
        "Prop. parameters = [0, 0, 1.0, 0, 0, 1.0, 1.0, 1.0, 1.0, 0, 0, 0]\n",
        "\tFx = 1e+23\n",
        "\tFy = 1e+23\n",
        "\tarTr = array of size 300000\n",
        "\textTr = 0\n",
        "\tmesh = Radiation Mesh (Sampling)\n",
        "\t\teFin = 0\n",
        "\t\teStart = 0\n",
        "\t\tne = 1\n",
        "\t\tnx = 1500\n",
        "\t\tny = 100\n",
        "\t\txFin = 0.0014\n",
        "\t\txStart = -0.0014\n",
        "\t\tyFin = 0.00141567685\n",
        "\t\tyStart = -0.00141567685\n",
        "\t\tzStart = 0\n",
        "\t\n",
        "\t\n",
        "Optical Element: Drift Space\n",
        "Prop. parameters = [0, 0, 1.0, 1, 0, 2.4, 1.8, 2.4, 1.8, 0, 0, 0]\n",
        "\tL = 683.1\n",
        "\ttreat = 0\n",
        "\t\n",
        "Optical Element: Aperture / Obstacle\n",
        "Prop. parameters = [0, 0, 1.0, 0, 0, 0.6, 8.0, 0.6, 4.0, 0, 0, 0]\n",
        "\tDx = 0.0028\n",
        "\tDy = 0.0028\n",
        "\tap_or_ob = a\n",
        "\tshape = r\n",
        "\tx = 0\n",
        "\ty = 0\n",
        "\t\n",
        "Optical Element: Thin Lens\n",
        "Prop. parameters = [0, 0, 1.0, 1, 0, 1.0, 1.0, 1.0, 1.0, 0, 0, 0]\n",
        "\tFx = 2.99034956037\n",
        "\tFy = 1e+23\n",
        "\tx = 0\n",
        "\ty = 0\n",
        "\t\n",
        "Optical Element: Transmission (generic)\n",
        "Prop. parameters = [0, 0, 1.0, 0, 0, 1.0, 1.0, 1.0, 1.0, 0, 0, 0]\n",
        "\tFx = 1e+23\n",
        "\tFy = 1e+23\n",
        "\tarTr = array of size 300000\n",
        "\textTr = 0\n",
        "\tmesh = Radiation Mesh (Sampling)\n",
        "\t\teFin = 0\n",
        "\t\teStart = 0\n",
        "\t\tne = 1\n",
        "\t\tnx = 1500\n",
        "\t\tny = 100\n",
        "\t\txFin = 0.0014\n",
        "\t\txStart = -0.0014\n",
        "\t\tyFin = 0.0014\n",
        "\t\tyStart = -0.0014\n",
        "\t\tzStart = 0\n",
        "\t\n",
        "\t\n",
        "Optical Element: Drift Space\n",
        "Prop. parameters = [0, 0, 1.0, 1, 0, 1.0, 1.0, 1.0, 1.0, 0, 0, 0]\n",
        "\tL = 1.1\n",
        "\ttreat = 0\n",
        "\t\n",
        "Optical Element: Thin Lens\n",
        "Prop. parameters = [0, 0, 1.0, 0, 0, 1.0, 1.0, 1.0, 1.0, 0, 0, 0]\n",
        "\tFx = 1e+23\n",
        "\tFy = 1.89612910144\n",
        "\tx = 0\n",
        "\ty = 0\n",
        "\t\n",
        "Optical Element: Transmission (generic)\n",
        "Prop. parameters = [0, 0, 1.0, 0, 0, 1.0, 1.0, 1.0, 1.0, 0, 0, 0]\n",
        "\tFx = 1e+23\n",
        "\tFy = 1e+23\n",
        "\tarTr = array of size 300000\n",
        "\textTr = 0\n",
        "\tmesh = Radiation Mesh (Sampling)\n",
        "\t\teFin = 0\n",
        "\t\teStart = 0\n",
        "\t\tne = 1\n",
        "\t\tnx = 100\n",
        "\t\tny = 1500\n",
        "\t\txFin = 0.0014\n",
        "\t\txStart = -0.0014\n",
        "\t\tyFin = 0.0014\n",
        "\t\tyStart = -0.0014\n",
        "\t\tzStart = 0\n",
        "\t\n",
        "\t\n",
        "Optical Element: Drift Space\n",
        "Prop. parameters = [0, 0, 1.0, 1, 0, 1.0, 1.0, 1.0, 1.0, 0, 0, 0]\n",
        "\tL = 1.89612910144\n",
        "\ttreat = 0\n",
        "\t\n"
       ]
      },
      {
       "output_type": "stream",
       "stream": "stdout",
       "text": [
        "\n",
        "*****reading wavefront from h5 file...\n",
        "*****propagating wavefront (with resizing)..."
       ]
      },
      {
       "output_type": "stream",
       "stream": "stdout",
       "text": [
        "\n",
        "[nx, ny, xmin, xmax, ymin, ymax]"
       ]
      },
      {
       "output_type": "stream",
       "stream": "stdout",
       "text": [
        " [8316, 4158, -2.6546997796042262e-05, 2.6546997796042282e-05, -3.230883296886678e-05, 3.230883296886679e-05]\n",
        "done\n",
        "propagation lasted: 1.2 min\n"
       ]
      }
     ],
     "prompt_number": 17
    },
    {
     "cell_type": "code",
     "collapsed": false,
     "input": [
      "print ('*****Focused beam behind focus: imperfect KB')\n",
      "bOnePlot= True\n",
      "isHlog = False\n",
      "isVlog = False\n",
      "bSaved = False\n",
      "plot_wfront(mwf, 'at '+str(z1+z2+z3+z4)+' m',isHlog, isVlog, 1e-3,1e-3,'x', bOnePlot)\n",
      "#pylab.set_cmap('bone') #set color map, 'bone', 'hot', etc\n",
      "pylab.axis('tight')    \n",
      "print 'FWHMx [um], FWHMy [um]:',calculate_fwhm_x(mwf)*1e6,calculate_fwhm_y(mwf)*1e6"
     ],
     "language": "python",
     "metadata": {},
     "outputs": [
      {
       "output_type": "stream",
       "stream": "stdout",
       "text": [
        "*****Focused beam behind focus: imperfect KB\n",
        "FWHMx [mm]: "
       ]
      },
      {
       "output_type": "stream",
       "stream": "stdout",
       "text": [
        "0.00238172704219\n",
        "FWHMy [mm]: "
       ]
      },
      {
       "output_type": "stream",
       "stream": "stdout",
       "text": [
        "0.00449230345345\n",
        "Coordinates of center, [mm]:"
       ]
      },
      {
       "output_type": "stream",
       "stream": "stdout",
       "text": [
        " -0.0010503863229 -0.000660632860802\n",
        "stepX, stepY [um]:"
       ]
      },
      {
       "output_type": "stream",
       "stream": "stdout",
       "text": [
        " 0.00638532719087 0.0155443026071 \n",
        "\n",
        "FWHMx [um], FWHMy [um]:"
       ]
      }
     ],
     "prompt_number": "*"
    },
    {
     "cell_type": "code",
     "collapsed": false,
     "input": [],
     "language": "python",
     "metadata": {},
     "outputs": []
    },
    {
     "cell_type": "code",
     "collapsed": false,
     "input": [],
     "language": "python",
     "metadata": {},
     "outputs": []
    },
    {
     "cell_type": "code",
     "collapsed": false,
     "input": [],
     "language": "python",
     "metadata": {},
     "outputs": []
    }
   ],
   "metadata": {}
  }
 ]
}