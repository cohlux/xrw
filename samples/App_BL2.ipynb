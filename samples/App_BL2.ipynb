{
 "metadata": {
  "name": ""
 },
 "nbformat": 3,
 "nbformat_minor": 0,
 "worksheets": [
  {
   "cells": [
    {
     "cell_type": "raw",
     "metadata": {},
     "source": [
      "FLASH Application Example "
     ]
    },
    {
     "cell_type": "heading",
     "level": 3,
     "metadata": {},
     "source": [
      "BL2: focusing Gaussian beam by elliptical mirror"
     ]
    },
    {
     "cell_type": "raw",
     "metadata": {},
     "source": [
      "Metrology data provided by F.Siewert, HZB"
     ]
    },
    {
     "cell_type": "code",
     "collapsed": false,
     "input": [
      "#Importing necessary modules:\n",
      "\n",
      "import sys\n",
      "sys.path.insert(0,'..')\n",
      "\n",
      "import os\n",
      "import time\n",
      "import copy\n",
      "import numpy\n",
      "import pylab\n",
      "\n",
      "\n",
      "#import SRW core functions\n",
      "from srwlib import srwl, SRWLOptD,SRWLOptA,SRWLOptC,SRWLOptT,SRWLOptL,SRWLOptMirEl\n",
      "\n",
      "#import SRW helpers functions\n",
      "from wpg.useful_code.srwutils import AuxTransmAddSurfHeightProfileScaled\n",
      "\n",
      "#import some helpers functions\n",
      "from wpg.useful_code.wfrutils import calculate_fwhm_x, plot_wfront, calculate_fwhm_y, print_beamline, get_mesh\n",
      "\n",
      "#Import base wavefront class\n",
      "from wpg import Wavefront\n",
      "\n",
      "#Gaussian beam generator\n",
      "from wpg.generators import build_gauss_wavefront_xy\n",
      "\n",
      "pylab.ion()\n",
      "\n",
      "#import array\n",
      "\n",
      "#from useful_code.srwutils import AuxSaveIntData,AuxSaveOpTransmData,AuxReadInDataColumns, AuxTransmAddSurfHeightProfileScaled\n",
      "#from useful_code.wfrutils import plot_1d, plot_2d, calculate_fwhm_x, plot_wfront, propagate_run, calculate_fwhm_y"
     ],
     "language": "python",
     "metadata": {},
     "outputs": [],
     "prompt_number": 1
    },
    {
     "cell_type": "code",
     "collapsed": false,
     "input": [
      "print('WPG/SRW Application Example:')\n",
      "print('Simulating propagation of an X-ray Gaussian pulse through BL2 focusing elliptical mirror')\n",
      "print('Mirror metrology data: F.Siewert, HZB, May 2013')"
     ],
     "language": "python",
     "metadata": {},
     "outputs": [
      {
       "output_type": "stream",
       "stream": "stdout",
       "text": [
        "WPG/SRW Application Example:\n",
        "Simulating propagation of an X-ray Gaussian pulse through BL2 focusing elliptical mirror\n",
        "Mirror metrology data: F.Siewert, HZB, May 2013\n"
       ]
      }
     ],
     "prompt_number": 2
    },
    {
     "cell_type": "code",
     "collapsed": false,
     "input": [
      "#Plotting\n",
      "def plot_1d(profile, title_fig, title_x, title_y):\n",
      "    pylab.plot(profile[0], profile[1])\n",
      "    pylab.xlabel(title_x)\n",
      "    pylab.ylabel(title_y)\n",
      "    pylab.title(title_fig)\n",
      "    pylab.grid(True)\n",
      "\n",
      "\n",
      "def plot_2d(amap, xmin, xmax, ymin, ymax, title_fig, title_x, title_y):\n",
      "    pylab.imshow(amap, extent=(ymin, ymax, xmin, xmax))\n",
      "    pylab.colorbar()\n",
      "    pylab.xlabel(title_x)\n",
      "    pylab.ylabel(title_y)\n",
      "    pylab.title(title_fig)\n"
     ],
     "language": "python",
     "metadata": {},
     "outputs": [],
     "prompt_number": 3
    },
    {
     "cell_type": "code",
     "collapsed": false,
     "input": [
      "def defineTrEr(opTrErMirr, datafname, ncol, delim, Orient, theta, bPlotted):\n",
      "    heightProfData = AuxReadInDataColumns(datafname, ncol, delim)\n",
      "    AuxTransmAddSurfHeightProfileScaled(opTrErMirr, heightProfData, Orient, theta, 1)\n",
      "    if bPlotted:\n",
      "        pylab.figure()\n",
      "        pylab.subplot(211)\n",
      "        plot_1d(heightProfData,'profile from ' + datafname,'x (m)', 'h (m)') \n",
      "        opdTmp=numpy.array(opTrErMirr.arTr)[1::2].reshape(opTrErMirr.mesh.ny,opTrErMirr.mesh.nx)\n",
      "        xmin = opTrErMirr.mesh.xStart\n",
      "        xmax = opTrErMirr.mesh.xFin\n",
      "        ymin = opTrErMirr.mesh.yStart\n",
      "        ymax = opTrErMirr.mesh.yFin\n",
      "        pylab.subplot(221)\n",
      "        plot_2d(opdTmp, xmin,xmax,ymin,ymax, 'OPD', 'x (m)', 'y (m)')"
     ],
     "language": "python",
     "metadata": {},
     "outputs": []
    },
    {
     "cell_type": "code",
     "collapsed": false,
     "input": [
      "def calc_source_size():\n",
      "    #calculate source size from reference data, angular divergence 90 urad @ 13.5 nm\n",
      "    wl = 13.5e-9\n",
      "    ekev = 12.4/(wl*1.e10)\n",
      "    print '       wavelength [nm], E [ev]: ',wl*1e9,ekev*1e3\n",
      "    k = 2*sqrt(2*log(2))\n",
      "    theta_fwhm = 90e-6\n",
      "    theta_rms = theta_fwhm/k\n",
      "    sigX = 12.4e-10/(ekev*4*pi*theta_rms)\n",
      "    waist_fwhm = sigX * k\n",
      "    print 'waist (sigma), waist_fwhm [um]:',sigX*1e6,waist_fwhm*1e6\n",
      "    print '            theta_fwhms [urad]:', theta_fwhm*1e6\n",
      "    return waist_fwhm"
     ],
     "language": "python",
     "metadata": {},
     "outputs": [],
     "prompt_number": 4
    },
    {
     "cell_type": "code",
     "collapsed": false,
     "input": [
      "#define optical path difference (OPD) from mirror profile, i.e.\n",
      "#fill the struct opTrErMirr\n",
      "#input: \n",
      "#    mdatafile: an ascii file with mirror profile data\n",
      "#    ncol:      number of columns in the file\n",
      "#    delim:     delimiter between numbers in an row, can be space (' '), tab '\\t', etc\n",
      "#    Orient:    mirror orientation, 'x' (horizontal) or 'y' (vertical)\n",
      "#    theta:     incidence angle\n",
      "#    scale:     scaling factor for the mirror profile\n",
      "def defineOPD(opTrErMirr, mdatafile, ncol, delim, Orient, theta, scale):\n",
      "    heightProfData = numpy.loadtxt(mdatafile).T\n",
      "    AuxTransmAddSurfHeightProfileScaled(opTrErMirr, heightProfData, Orient, theta, scale)\n",
      "    pylab.figure()\n",
      "    plot_1d(heightProfData,'profile from ' + mdatafile,'x (m)', 'h (m)') #@todo add the func def in on top of example"
     ],
     "language": "python",
     "metadata": {},
     "outputs": [],
     "prompt_number": 5
    },
    {
     "cell_type": "code",
     "collapsed": false,
     "input": [
      "#a wrapper to a SRWL function SRWLOptMirEl() for defining a plane elliptical focusing mirror propagator\n",
      "#input: \n",
      "#    Orient:    mirror orientation, 'x' (horizontal) or 'y' (vertical)\n",
      "#    p,q:       the distance to two ellipsis centers\n",
      "#    thetaEFM:  the design incidence angle in the center of the mirror\n",
      "#    theta0:    the \"real\" incidence angle in the center of the mirror\n",
      "#    lengthEFM: mirror length, [m]\n",
      "#return:\n",
      "#    the struct opEFM\n",
      "def defineEFM(orient,p,q,thetaEFM,theta0,lengthEFM):\n",
      "    if orient == 'x':     #horizontal plane ellipsoidal mirror\n",
      "        opEFM = SRWLOptMirEl(_p=p, _q=q, _ang_graz=thetaEFM, _r_sag=1.e+40, _size_tang=lengthEFM, \n",
      "            _nvx=cos(theta0), _nvy=0, _nvz=-sin(theta0), _tvx=-sin(theta0), _tvy=0, _x=0, _y=0, _treat_in_out=1) \n",
      "    elif orient == 'y': #vertical plane ellipsoidal mirror\n",
      "        opEFM = SRWLOptMirEl(_p=p, _q=q, _ang_graz=thetaEFM, _r_sag=1.e+40, _size_tang=lengthEFM, \n",
      "            _nvx=0, _nvy=cos(theta0), _nvz=-sin(theta0), _tvx=0, _tvy=-sin(theta0), _x=0, _y=0, _treat_in_out=1)\n",
      "    else:\n",
      "        raise TypeError('orient should be \"x\" or \"y\"')\n",
      "    return opEFM"
     ],
     "language": "python",
     "metadata": {},
     "outputs": [],
     "prompt_number": 6
    },
    {
     "cell_type": "code",
     "collapsed": false,
     "input": [
      "def build_optical_bl1(iMode,thetaEM,bPlotted):\n",
      "    strDataFolderName = 'data_flash'  # data sub-folder name\n",
      "    #There is current optical layout for BL2\n",
      "    #The optical layout parameters:\n",
      "    #propagation distances, [m]:\n",
      "    d2foc = 2.0           # [m] distance to focus\n",
      "    d2EM  = 73.0 - d2foc   # [m] distance from EM to Gaussian waist\n",
      "    lengthM = 0.5          # [m] focusing mirror length \n",
      "    horAp  = 0.5 * thetaEM\n",
      "    verAp  = horAp\n",
      "    if iMode == 101:\n",
      "        opTrErEM = SRWLOptT(1500, 100, horAp, verAp)\n",
      "        defineOPD(opTrErEM, os.path.join(strDataFolderName,'flash_BL2_ell_residual_height_in_m.dat'), 2, ' ', 'x',  thetaEM, scale=1)\n",
      "    ApEM = SRWLOptA('r', 'a',horAp, verAp) #Aperture Before EM\n",
      "    EM = defineEFM(orient='x',p=d2EM,q=d2foc,thetaEFM=thetaEM,theta0=thetaEM,lengthEFM=lengthM)\n",
      "    SRWLOptMirEl(_p=d2EM, _q=d2foc, _ang_graz=thetaEM, _r_sag=0.2, _size_tang=0.5, _nvx=cos(thetaEM), _nvy=0, _nvz=-sin(thetaEM), \n",
      "                     _tvx=-sin(thetaEM), _tvy=0, _x=0, _y=0, _treat_in_out=1) # Ellipsoidal Mirror\n",
      "    #EM = SRWLOptL(1. /(1./ d2EM + 1. / d2foc ),1. /(1./ d2EM + 1. / d2foc ))\n",
      "    Drift_EM_foc = SRWLOptD(d2foc) #Drift from EM Center to focus # Mirror like a lens\n",
      "    ppApEM =         [ 0,  0, 1.0,  0,  0, 1.8, 1.8, 1.8, 1.8,  0,  0,   0]\n",
      "    ppEM =           [ 0,  0, 1.0,  1,  0, 1.0, 1.0, 1.0, 1.0,  0,  0,   0]\n",
      "    ppTrErEM =       [ 0,  0, 1.0,  0,  0, 1.0, 1.0, 1.0, 1.0,  0,  0,   0]\n",
      "    ppDrift_EM_foc = [ 0,  0, 1.0,  1,  0, 1.0, 1.0, 1.0, 1.0,  0,  0,   0]\n",
      "    ppFinalh =       [ 0,  0, 1.0,  0,  1, 0.05, 10, 0.025, 15,  0,  0,   0]\n",
      "    if iMode == 100:\n",
      "        optBL1 = SRWLOptC([ApEM,  EM,  Drift_EM_foc], \n",
      "                          [ppApEM,ppEM,ppDrift_EM_foc,ppFinalh]) \n",
      "    if iMode == 101:\n",
      "        optBL1 = SRWLOptC([ApEM,  EM,  opTrErEM, Drift_EM_foc], \n",
      "                          [ppApEM,ppEM,ppTrErEM, ppDrift_EM_foc,ppFinalh]) \n",
      "    return optBL1    "
     ],
     "language": "python",
     "metadata": {},
     "outputs": [],
     "prompt_number": 7
    },
    {
     "cell_type": "code",
     "collapsed": false,
     "input": [
      "from math import sqrt, log, floor, pi\n",
      "# #**********************Input Wavefront Structure and Parameters\n",
      "print('*****defining initial wavefront and writing electric field data to h5-file...')\n",
      "\n",
      "strDataFolderName = 'data_flash/'  # data sub-folder name\n",
      "isHardCoded = True\n",
      "#build_gauss_wavefront(nx,ny,nz,ekev,xMin,xMax,yMin,yMax,tau,d2waist)\n",
      "d2foc = 0.636\n",
      "d2waist = 73.0 - d2foc\n",
      "wl = 13.5e-9\n",
      "ekev = 12.4/(wl*1.e10)\n",
      "if isHardCoded:\n",
      "    waist_fwhm = calc_source_size()\n",
      "    k = 2*sqrt(2*log(2))\n",
      "    sigX = waist_fwhm / k\n",
      "    theta_rms = 12.4e-10/(ekev*4*pi*sigX) \n",
      "    theta_fwhm = theta_rms * k\n",
      "    print '       wavelength [nm], E [ev]: ',wl*1e9,ekev*1e3\n",
      "    print 'waist (sigma), waist_fwhm [um]:',sigX*1e6,waist_fwhm*1e6\n",
      "    print '            theta_fwhms [urad]:', theta_fwhm*1e6\n",
      "#define limits\n",
      "xmax = theta_rms*d2waist*4\n",
      "xmin = - xmax\n",
      "ymin = xmin\n",
      "ymax = xmax\n",
      "npx=600\n",
      "npy=npx\n",
      "wfr0=build_gauss_wavefront_xy(npx,npy,ekev,xmin,xmax,ymin,ymax,sigX,sigX,d2waist)    \n",
      "mwf = Wavefront(wfr0)\n",
      "ip = numpy.floor(ekev)\n",
      "frac = numpy.floor((ekev - ip)*1e3)\n",
      "fname0 = 'g' + str(int(ip))+'_'+str(int(frac))+'kev'\n",
      "print('save hdf5: '+strDataFolderName+fname0+'.h5')\n",
      "mwf.store_hdf5(strDataFolderName+fname0+'.h5')\n",
      "print('done')"
     ],
     "language": "python",
     "metadata": {},
     "outputs": [
      {
       "output_type": "stream",
       "stream": "stdout",
       "text": [
        "*****defining initial wavefront and writing electric field data to h5-file...\n",
        "       wavelength [nm], E [ev]:  13.5 91.8518518519\n",
        "waist (sigma), waist_fwhm [um]: 28.1085937694 66.1906800458\n",
        "            theta_fwhms [urad]: 90.0\n",
        "       wavelength [nm], E [ev]:  13.5 91.8518518519\n",
        "waist (sigma), waist_fwhm [um]: 28.1085937694 66.1906800458\n",
        "            theta_fwhms [urad]: 90.0\n",
        "save hdf5: data_flash/g0_91kev.h5"
       ]
      },
      {
       "output_type": "stream",
       "stream": "stdout",
       "text": [
        "\n",
        "done"
       ]
      },
      {
       "output_type": "stream",
       "stream": "stdout",
       "text": [
        "\n"
       ]
      }
     ],
     "prompt_number": 10
    },
    {
     "cell_type": "code",
     "collapsed": false,
     "input": [
      "plot_wfront(mwf, title_fig='at initial position '+str(d2waist)+' m',\n",
      "            isHlog=False, isVlog=False,\n",
      "            i_x_min=1e-5, i_y_min=1e-5, orient='x', onePlot=True)\n",
      "pylab.set_cmap('bone')\n",
      "#pylab.show()\n",
      "fwhm_x = calculate_fwhm_x(mwf)\n",
      "print 'FWHMx [mm], theta_fwhm [urad]:',fwhm_x*1e3,fwhm_x/d2waist*1e6"
     ],
     "language": "python",
     "metadata": {},
     "outputs": []
    },
    {
     "cell_type": "code",
     "collapsed": false,
     "input": [
      "bCalculated = True\n",
      "bSaved = False\n",
      "if bCalculated:\n",
      "    iMode = 100\n",
      "    bPlotted = True\n",
      "    pos_title = 'in focus, w/o profile'\n",
      "    startTime = time.time()\n",
      "    print '*****setting-up optical elements, mode:', iMode\n",
      "    thetaEM = 52.4e-3   # incidence angle of elliptical  mirror, 3 deg\n",
      "    optBL = build_optical_bl1(iMode, thetaEM, bPlotted)\n",
      "    print 'building BL lasted:', round((time.time() - startTime) / 6.) / 10., 'min'       \n",
      "    bname = fname0 +'_pos' + str(iMode)\n",
      "    print strDataFolderName+bname\n",
      "    print_beamline(optBL)\n",
      "    startTime = time.time()\n",
      "\n",
      "    print '*****reading wavefront from h5 file...'+strDataFolderName+fname0+'.h5'\n",
      "    w2 = Wavefront()\n",
      "    w2.load_hdf5(strDataFolderName+fname0+'.h5')\n",
      "    wfr = w2._srwl_wf\n",
      "    plot_wfront(w2, title_fig='test',\n",
      "            isHlog=False, isVlog=False,i_x_min=1e-5, i_y_min=1e-5, orient='x', onePlot=True)\n",
      "    print '*****propagating wavefront (with resizing)...'\n",
      "    srwl.PropagElecField(wfr, optBL)\n",
      "    mwf = Wavefront(wfr)\n",
      "    print '[nx, ny, xmin, xmax, ymin, ymax]', get_mesh(mwf)\n",
      "\n",
      "    if bSaved:\n",
      "        print 'save hdf5:', fname0+'_'+strBL+'.h5'\n",
      "        mwf.store_hdf5(os.path.join(strOutputDataFolder, fname0+'_'+strBL+'.h5'))\n",
      "    print 'done'\n",
      "    print 'propagation lasted:', round((time.time() - startTime) / 6.) / 10., 'min'\n",
      "    dd100 = plot_wfront(mwf, title_fig=pos_title,\n",
      "            isHlog=True, isVlog=False,i_x_min=1e-5, i_y_min=1e-5, orient='x', onePlot=True)\n",
      "    print 'FWHMx, FWHMy [mm]:',calculate_fwhm_x(mwf)*1e3,calculate_fwhm_y(mwf)*1e3\n",
      "    #pylab.show()\n"
     ],
     "language": "python",
     "metadata": {},
     "outputs": []
    },
    {
     "cell_type": "code",
     "collapsed": false,
     "input": [
      "bCalculated = True\n",
      "bSaved = False\n",
      "if bCalculated:\n",
      "    iMode = 101\n",
      "    bPlotted = True\n",
      "    pos_title = 'in focus, with profile'\n",
      "    startTime = time.time()\n",
      "    print '*****setting-up optical elements, mode:', iMode\n",
      "    thetaEM = 52.4e-3   # incidence angle of elliptical  mirror, 3 deg\n",
      "    optBL = build_optical_bl1(iMode, thetaEM, bPlotted)\n",
      "    print 'building BL lasted:', round((time.time() - startTime) / 6.) / 10., 'min'       \n",
      "    bname = fname0 +'_pos' + str(iMode)\n",
      "    print strDataFolderName+bname\n",
      "    print_beamline(optBL)\n",
      "    startTime = time.time()\n",
      "\n",
      "    print '*****reading wavefront from h5 file...'+strDataFolderName+fname0+'.h5'\n",
      "    w2 = Wavefront()\n",
      "    w2.load_hdf5(strDataFolderName+fname0+'.h5')\n",
      "    wfr = w2._srwl_wf\n",
      "    print '*****propagating wavefront (with resizing)...'\n",
      "    srwl.PropagElecField(wfr, optBL)\n",
      "    mwf = Wavefront(wfr)\n",
      "    print '[nx, ny, xmin, xmax, ymin, ymax]', get_mesh(mwf)\n",
      "\n",
      "    if bSaved:\n",
      "        print 'save hdf5:', fname0+'_'+strBL+'.h5'\n",
      "        mwf.store_hdf5(os.path.join(strOutputDataFolder, fname0+'_'+strBL+'.h5'))\n",
      "    print 'done'\n",
      "    print 'propagation lasted:', round((time.time() - startTime) / 6.) / 10., 'min'\n",
      "    dd101 = plot_wfront(mwf, title_fig=pos_title,\n",
      "            isHlog=True, isVlog=False,i_x_min=1e-5, i_y_min=1e-5, orient='x', onePlot=True)\n",
      "    print 'FWHMx, FWHMy [mm]:',calculate_fwhm_x(mwf)*1e3,calculate_fwhm_y(mwf)*1e3\n",
      "    #pylab.show()"
     ],
     "language": "python",
     "metadata": {},
     "outputs": []
    },
    {
     "cell_type": "code",
     "collapsed": false,
     "input": [],
     "language": "python",
     "metadata": {},
     "outputs": []
    },
    {
     "cell_type": "code",
     "collapsed": false,
     "input": [],
     "language": "python",
     "metadata": {},
     "outputs": []
    }
   ],
   "metadata": {}
  }
 ]
}